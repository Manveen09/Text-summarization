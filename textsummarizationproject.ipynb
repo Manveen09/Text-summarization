{
 "cells": [
  {
   "cell_type": "code",
   "execution_count": 8,
   "id": "1f175386",
   "metadata": {
    "scrolled": true
   },
   "outputs": [
    {
     "name": "stderr",
     "output_type": "stream",
     "text": [
      "[nltk_data] Downloading package punkt to\n",
      "[nltk_data]     C:\\Users\\HP\\AppData\\Roaming\\nltk_data...\n",
      "[nltk_data]   Package punkt is already up-to-date!\n"
     ]
    },
    {
     "data": {
      "text/plain": [
       "True"
      ]
     },
     "execution_count": 8,
     "metadata": {},
     "output_type": "execute_result"
    }
   ],
   "source": [
    "import nltk\n",
    "import numpy as np\n",
    "import pandas as pd\n",
    "import re\n",
    "nltk.download('punkt')"
   ]
  },
  {
   "cell_type": "code",
   "execution_count": 9,
   "id": "a972c580",
   "metadata": {
    "scrolled": true
   },
   "outputs": [],
   "source": [
    "from nltk.tokenize import sent_tokenize\n",
    "from nltk.corpus import stopwords\n",
    "from gensim.models import Word2Vec\n",
    "from scipy import spatial\n",
    "import networkx as nx\n"
   ]
  },
  {
   "cell_type": "code",
   "execution_count": 10,
   "id": "a2be04e3",
   "metadata": {},
   "outputs": [
    {
     "name": "stdout",
     "output_type": "stream",
     "text": [
      "Enter textEnter textLorem ipsum dolor sit amet, consectetur adipiscing elit. Vestibulum vulputate varius elit, sed dapibus est interdum sit amet. Vestibulum mi tellus, ornare quis fringilla vitae, interdum non libero. Vivamus non eros nec lacus fermentum consequat sit amet vitae nisi. In lectus dolor, dignissim eu gravida at, placerat vitae ipsum. In viverra a erat non interdum. Fusce sollicitudin ultricies interdum. Vivamus mollis dolor risus, ut consectetur quam vehicula consectetur. Suspendisse faucibus erat eu urna interdum mollis. Aliquam commodo et erat eu faucibus.  Donec iaculis ipsum et diam iaculis vestibulum. Mauris a nibh eget mauris pharetra varius vitae quis dui. Morbi eu erat consequat, commodo nisl vitae, pharetra risus. Sed congue faucibus mauris vel lobortis. In hac habitasse platea dictumst. Aliquam venenatis aliquam arcu, eu sollicitudin nulla imperdiet vitae. Phasellus consequat sagittis vestibulum.  Donec fermentum felis ipsum, id fringilla metus commodo at. Vivamus metus dui, tristique vitae gravida at, sollicitudin a libero. Pellentesque eget est sed risus luctus euismod et ut turpis. In eu nibh sem. In pretium massa in suscipit dignissim. Cras varius ullamcorper semper. In eu lacus ipsum. Vestibulum at laoreet odio. Nullam non nunc sagittis, dictum nibh at, tincidunt massa. Mauris in sapien cursus, porttitor urna vel, semper metus. Etiam laoreet, ligula id scelerisque elementum, arcu velit sollicitudin lacus, non laoreet dolor dui euismod justo. Sed mollis lorem enim, ut facilisis eros tempor suscipit. Ut convallis lacinia erat quis blandit. Sed in sapien elementum eros posuere sagittis. Nullam sem ex, posuere non ligula sit amet, consectetur dictum magna.  Nam a pulvinar odio, sed imperdiet nibh. Aenean quis egestas lacus. Nunc eleifend ante at nisl commodo, at faucibus mauris porta. Sed cursus mattis sapien. In tincidunt maximus enim, non facilisis leo fringilla a. Praesent venenatis, diam consequat pharetra tempor, mauris mauris aliquam erat, non finibus purus dolor vitae lorem. Donec sit amet tristique nisl. Donec consectetur augue ut sollicitudin congue. Vivamus non ipsum diam. Suspendisse feugiat sagittis elit, a consectetur neque imperdiet sit amet. Nunc viverra velit sapien, eu malesuada nunc consequat sed. Curabitur sodales hendrerit mi quis blandit. Vivamus consequat eleifend orci vel pretium. Pellentesque arcu magna, condimentum quis odio nec, egestas finibus arcu. Curabitur egestas ligula quis dolor dictum, ut consequat odio luctus.  Ut ultrices convallis porttitor. Pellentesque interdum nulla id odio rutrum gravida. Praesent sed tincidunt mi. Etiam facilisis accumsan turpis sit amet mollis. Aliquam fringilla vel quam vitae ornare. Etiam quis magna ut est hendrerit malesuada quis et ligula. Ut luctus, libero sit amet feugiat bibendum, massa nulla congue turpis, sed consequat orci ex quis nisi. Nulla tincidunt rhoncus elementum. Nullam dignissim sodales lorem, eu convallis nibh porttitor eu. Sed eu nibh non tellus pulvinar ullamcorper. sentences=sent_tokenize(text) sentences=sent_tokenize(text)\n"
     ]
    }
   ],
   "source": [
    "text= input(\"Enter text\")\n"
   ]
  },
  {
   "cell_type": "code",
   "execution_count": 11,
   "id": "4e31bcd9",
   "metadata": {},
   "outputs": [],
   "source": [
    "sentences=sent_tokenize(text)"
   ]
  },
  {
   "cell_type": "code",
   "execution_count": 12,
   "id": "f8be22b6",
   "metadata": {},
   "outputs": [
    {
     "name": "stderr",
     "output_type": "stream",
     "text": [
      "[nltk_data] Downloading package stopwords to\n",
      "[nltk_data]     C:\\Users\\HP\\AppData\\Roaming\\nltk_data...\n",
      "[nltk_data]   Package stopwords is already up-to-date!\n"
     ]
    },
    {
     "data": {
      "text/plain": [
       "True"
      ]
     },
     "execution_count": 12,
     "metadata": {},
     "output_type": "execute_result"
    }
   ],
   "source": [
    "nltk.download('stopwords')"
   ]
  },
  {
   "cell_type": "code",
   "execution_count": 13,
   "id": "b60f3bf0",
   "metadata": {},
   "outputs": [
    {
     "name": "stdout",
     "output_type": "stream",
     "text": [
      "Requirement already satisfied: textstat in c:\\users\\hp\\anaconda3\\lib\\site-packages (0.7.3)\n",
      "Requirement already satisfied: pyphen in c:\\users\\hp\\anaconda3\\lib\\site-packages (from textstat) (0.13.2)\n"
     ]
    }
   ],
   "source": [
    "!pip install textstat"
   ]
  },
  {
   "cell_type": "code",
   "execution_count": 14,
   "id": "950d3e3d",
   "metadata": {},
   "outputs": [
    {
     "name": "stdout",
     "output_type": "stream",
     "text": [
      "Num sentences: 57\n",
      "Num words: 443\n"
     ]
    }
   ],
   "source": [
    "import textstat\n",
    "print(\"Num sentences:\", textstat.sentence_count(text))\n",
    "print(\"Num words:\", len(text.split()))"
   ]
  },
  {
   "cell_type": "code",
   "execution_count": 15,
   "id": "723385bd",
   "metadata": {},
   "outputs": [],
   "source": [
    "sentences_clean=[re.sub(r'[^\\w\\s]','',sentence.lower()) for sentence in sentences]\n",
    "stop_words = stopwords.words('english')\n",
    "sentence_tokens=[[words for words in sentence.split(' ') if words not in stop_words] for sentence in sentences_clean]"
   ]
  },
  {
   "cell_type": "code",
   "execution_count": 16,
   "id": "79aaa84f",
   "metadata": {},
   "outputs": [],
   "source": [
    "w2v=Word2Vec(sentence_tokens,vector_size=1,min_count=1,epochs=1000)\n",
    "\n",
    "sentence_embeddings=[[w2v.wv[word][0] for word in words] for words in sentence_tokens]\n",
    "\n",
    "max_len=max([len(tokens) for tokens in sentence_tokens])\n",
    "\n",
    "sentence_embeddings=[np.pad(embedding,(0,max_len-len(embedding)),'constant') for embedding in sentence_embeddings]\n",
    "similarity_matrix = np.zeros([len(sentence_tokens), len(sentence_tokens)])\n",
    "\n",
    "for i,row_embedding in enumerate(sentence_embeddings):\n",
    "    \n",
    "    for j,column_embedding in enumerate(sentence_embeddings):\n",
    "        \n",
    "        similarity_matrix[i][j]=1-spatial.distance.cosine(row_embedding,column_embedding)"
   ]
  },
  {
   "cell_type": "code",
   "execution_count": 17,
   "id": "f72d68ce",
   "metadata": {},
   "outputs": [],
   "source": [
    "nx_graph = nx.from_numpy_array(similarity_matrix)\n",
    "scores = nx.pagerank(nx_graph)\n"
   ]
  },
  {
   "cell_type": "code",
   "execution_count": 18,
   "id": "ace2c3f5",
   "metadata": {},
   "outputs": [
    {
     "name": "stdout",
     "output_type": "stream",
     "text": [
      "enter the number of sentences you want to display:20\n"
     ]
    }
   ],
   "source": [
    "summary=int(input(\"enter the number of sentences you want to display:\"))\n",
    "\n",
    "top_sentence={sentence:scores[index] for index,sentence in enumerate(sentences)}\n",
    "\n",
    "top=dict(sorted(top_sentence.items(), key=lambda x: x[1], reverse=True)[:summary])"
   ]
  },
  {
   "cell_type": "code",
   "execution_count": 19,
   "id": "3736d9c5",
   "metadata": {},
   "outputs": [
    {
     "name": "stdout",
     "output_type": "stream",
     "text": [
      "Enter textLorem ipsum dolor sit amet, consectetur adipiscing elit.\n",
      "In lectus dolor, dignissim eu gravida at, placerat vitae ipsum.\n",
      "Suspendisse faucibus erat eu urna interdum mollis.\n",
      "Aliquam commodo et erat eu faucibus.\n",
      "Donec iaculis ipsum et diam iaculis vestibulum.\n",
      "Sed congue faucibus mauris vel lobortis.\n",
      "Vivamus metus dui, tristique vitae gravida at, sollicitudin a libero.\n",
      "Nullam non nunc sagittis, dictum nibh at, tincidunt massa.\n",
      "Mauris in sapien cursus, porttitor urna vel, semper metus.\n",
      "Sed mollis lorem enim, ut facilisis eros tempor suscipit.\n",
      "Sed in sapien elementum eros posuere sagittis.\n",
      "Nam a pulvinar odio, sed imperdiet nibh.\n",
      "Nunc eleifend ante at nisl commodo, at faucibus mauris porta.\n",
      "Suspendisse feugiat sagittis elit, a consectetur neque imperdiet sit amet.\n",
      "Vivamus consequat eleifend orci vel pretium.\n",
      "Pellentesque interdum nulla id odio rutrum gravida.\n",
      "Etiam facilisis accumsan turpis sit amet mollis.\n",
      "Aliquam fringilla vel quam vitae ornare.\n",
      "Nullam dignissim sodales lorem, eu convallis nibh porttitor eu.\n",
      "Sed eu nibh non tellus pulvinar ullamcorper.\n"
     ]
    }
   ],
   "source": [
    "for sent in sentences:\n",
    "    \n",
    "    if sent in top.keys():\n",
    "        \n",
    "        print(sent)"
   ]
  },
  {
   "cell_type": "code",
   "execution_count": null,
   "id": "8c6ea041",
   "metadata": {},
   "outputs": [],
   "source": []
  },
  {
   "cell_type": "code",
   "execution_count": null,
   "id": "8cb2e344",
   "metadata": {},
   "outputs": [],
   "source": []
  }
 ],
 "metadata": {
  "kernelspec": {
   "display_name": "Python 3 (ipykernel)",
   "language": "python",
   "name": "python3"
  },
  "language_info": {
   "codemirror_mode": {
    "name": "ipython",
    "version": 3
   },
   "file_extension": ".py",
   "mimetype": "text/x-python",
   "name": "python",
   "nbconvert_exporter": "python",
   "pygments_lexer": "ipython3",
   "version": "3.9.16"
  }
 },
 "nbformat": 4,
 "nbformat_minor": 5
}
